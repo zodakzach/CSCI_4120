{
 "cells": [
  {
   "cell_type": "markdown",
   "metadata": {},
   "source": [
    "# Homework 6\n",
    "You need to classify digits with SVM models in this homework. Use PCA to reduce data dimensionality (80% information remain). Compare performance of linear, radial, and polynomial kernals. Tune kernal parameters using Randomsearch method."
   ]
  },
  {
   "cell_type": "code",
   "execution_count": 1,
   "metadata": {},
   "outputs": [
    {
     "name": "stdout",
     "output_type": "stream",
     "text": [
      "\n",
      "Training Linear SVM model...\n"
     ]
    },
    {
     "name": "stderr",
     "output_type": "stream",
     "text": [
      "/Users/zacharycervenka/opt/anaconda3/lib/python3.9/site-packages/sklearn/model_selection/_search.py:307: UserWarning: The total space of parameters 7 is smaller than n_iter=10. Running 7 iterations. For exhaustive searches, use GridSearchCV.\n",
      "  warnings.warn(\n"
     ]
    },
    {
     "name": "stdout",
     "output_type": "stream",
     "text": [
      "Best hyperparameters for Linear SVM: {'C': 1.0}\n",
      "\n",
      "Classification Report for Linear SVM:\n",
      "\n",
      "              precision    recall  f1-score   support\n",
      "\n",
      "           0       1.00      1.00      1.00        33\n",
      "           1       0.93      0.96      0.95        28\n",
      "           2       1.00      1.00      1.00        33\n",
      "           3       1.00      1.00      1.00        34\n",
      "           4       1.00      1.00      1.00        46\n",
      "           5       0.98      0.94      0.96        47\n",
      "           6       0.97      1.00      0.99        35\n",
      "           7       1.00      0.97      0.99        34\n",
      "           8       0.93      0.90      0.92        30\n",
      "           9       0.93      0.97      0.95        40\n",
      "\n",
      "    accuracy                           0.97       360\n",
      "   macro avg       0.97      0.97      0.97       360\n",
      "weighted avg       0.98      0.97      0.97       360\n",
      "\n",
      "Cross-validation scores for Linear SVM: [0.97222222 0.95138889 0.94773519 0.97560976 0.95470383]\n",
      "Average Cross-validation score for Linear SVM: 0.9603319783197831\n",
      "\n",
      "Training Radial SVM model...\n",
      "Best hyperparameters for Radial SVM: {'gamma': 0.1, 'C': 1000.0}\n",
      "\n",
      "Classification Report for Radial SVM:\n",
      "\n",
      "              precision    recall  f1-score   support\n",
      "\n",
      "           0       1.00      1.00      1.00        33\n",
      "           1       0.97      1.00      0.98        28\n",
      "           2       1.00      1.00      1.00        33\n",
      "           3       1.00      1.00      1.00        34\n",
      "           4       1.00      1.00      1.00        46\n",
      "           5       0.96      0.98      0.97        47\n",
      "           6       1.00      1.00      1.00        35\n",
      "           7       1.00      0.97      0.99        34\n",
      "           8       0.94      0.97      0.95        30\n",
      "           9       0.95      0.90      0.92        40\n",
      "\n",
      "    accuracy                           0.98       360\n",
      "   macro avg       0.98      0.98      0.98       360\n",
      "weighted avg       0.98      0.98      0.98       360\n",
      "\n",
      "Cross-validation scores for Radial SVM: [0.97916667 0.98263889 0.96864111 0.98954704 0.97560976]\n",
      "Average Cross-validation score for Radial SVM: 0.9791206929926443\n",
      "\n",
      "Training Polynomial SVM model...\n",
      "Best hyperparameters for Polynomial SVM: {'degree': 3, 'C': 100.0}\n",
      "\n",
      "Classification Report for Polynomial SVM:\n",
      "\n",
      "              precision    recall  f1-score   support\n",
      "\n",
      "           0       1.00      1.00      1.00        33\n",
      "           1       1.00      0.96      0.98        28\n",
      "           2       0.97      1.00      0.99        33\n",
      "           3       1.00      1.00      1.00        34\n",
      "           4       1.00      1.00      1.00        46\n",
      "           5       0.94      0.96      0.95        47\n",
      "           6       1.00      1.00      1.00        35\n",
      "           7       0.97      0.97      0.97        34\n",
      "           8       0.94      0.97      0.95        30\n",
      "           9       0.89      0.85      0.87        40\n",
      "\n",
      "    accuracy                           0.97       360\n",
      "   macro avg       0.97      0.97      0.97       360\n",
      "weighted avg       0.97      0.97      0.97       360\n",
      "\n",
      "Cross-validation scores for Polynomial SVM: [0.97916667 0.97916667 0.95818815 0.99303136 0.96864111]\n",
      "Average Cross-validation score for Polynomial SVM: 0.9756387921022067\n"
     ]
    },
    {
     "data": {
      "image/png": "[encoded data removed]",
      "text/plain": [
       "<Figure size 1000x400 with 40 Axes>"
      ]
     },
     "metadata": {},
     "output_type": "display_data"
    },
    {
     "data": {
      "image/png": "[encoded data removed]",
      "text/plain": [
       "<Figure size 800x800 with 10 Axes>"
      ]
     },
     "metadata": {},
     "output_type": "display_data"
    }
   ],
   "source": [
    "%matplotlib inline\n",
    "import numpy as np\n",
    "import matplotlib.pyplot as plt\n",
    "from scipy import stats\n",
    "from sklearn import datasets, svm, metrics\n",
    "from sklearn.model_selection import train_test_split, RandomizedSearchCV, cross_val_score\n",
    "from sklearn.decomposition import PCA\n",
    "\n",
    "# use seaborn plotting defaults\n",
    "import seaborn as sns; sns.set()\n",
    "from sklearn import datasets, svm, metrics\n",
    "\n",
    "# The digits dataset\n",
    "digits = datasets.load_digits()\n",
    "\n",
    "def plot_digits(data):\n",
    "    fig, axes = plt.subplots(4, 10, figsize=(10, 4),\n",
    "                             subplot_kw={'xticks':[], 'yticks':[]},\n",
    "                             gridspec_kw=dict(hspace=0.1, wspace=0.1))\n",
    "    for i, ax in enumerate(axes.flat):\n",
    "        ax.imshow(data[i].reshape(8, 8),\n",
    "                  cmap='binary', interpolation='nearest',\n",
    "                  clim=(0, 16))\n",
    "plot_digits(digits.data)\n",
    "\n",
    "# Split the dataset into training and testing sets\n",
    "X_train, X_test, y_train, y_test = train_test_split(digits.data, digits.target, test_size=0.2, random_state=42)\n",
    "\n",
    "# Perform PCA to reduce dimensionality while retaining 80% information\n",
    "pca = PCA(n_components=0.8, whiten=True)\n",
    "X_train_pca = pca.fit_transform(X_train)\n",
    "X_test_pca = pca.transform(X_test)\n",
    "\n",
    "# Define the SVM models with different kernels\n",
    "svm_models = {\n",
    "    'Linear': {'model': svm.SVC(kernel='linear'), 'param_dist': {'C': np.logspace(-3, 3, 7)}},\n",
    "    'Radial': {'model': svm.SVC(kernel='rbf'), 'param_dist': {'C': np.logspace(-3, 3, 7), 'gamma': np.logspace(-3, 3, 7)}},\n",
    "    'Polynomial': {'model': svm.SVC(kernel='poly'), 'param_dist': {'C': np.logspace(-3, 3, 7), 'degree': [2, 3, 4]}}\n",
    "}\n",
    "\n",
    "# Train and evaluate each SVM model\n",
    "for kernel, config in svm_models.items():\n",
    "    print(f\"\\nTraining {kernel} SVM model...\")\n",
    "\n",
    "    # Use RandomizedSearchCV to find the best hyperparameters\n",
    "    random_search = RandomizedSearchCV(config['model'], config['param_dist'], n_iter=10, cv=5, random_state=42)\n",
    "    random_search.fit(X_train_pca, y_train)\n",
    "\n",
    "    # Print the best hyperparameters\n",
    "    print(f\"Best hyperparameters for {kernel} SVM: {random_search.best_params_}\")\n",
    "\n",
    "    # Predict on the test set\n",
    "    y_pred = random_search.predict(X_test_pca)\n",
    "\n",
    "    # Display classification report\n",
    "    print(f\"\\nClassification Report for {kernel} SVM:\\n\")\n",
    "    print(metrics.classification_report(y_test, y_pred))\n",
    "\n",
    "    # Get cross-validation scores\n",
    "    cv_scores = cross_val_score(random_search.best_estimator_, X_train_pca, y_train, cv=5)\n",
    "    print(f\"Cross-validation scores for {kernel} SVM: {cv_scores}\")\n",
    "    print(f\"Average Cross-validation score for {kernel} SVM: {np.mean(cv_scores)}\")\n",
    "\n",
    "# Visualize some test digits and their predictions for the best-performing SVM model\n",
    "best_model = random_search.best_estimator_\n",
    "best_model_predictions = best_model.predict(X_test_pca)\n",
    "plt.figure(figsize=(8, 8))\n",
    "for i in range(10):\n",
    "    plt.subplot(2, 5, i + 1)\n",
    "    plt.imshow(X_test[i].reshape(8, 8), cmap='gray')\n",
    "    plt.title(f'Predicted: {best_model_predictions[i]}\\nActual: {y_test[i]}')\n",
    "    plt.axis('off')\n",
    "plt.show()"
   ]
  },
  {
   "cell_type": "code",
   "execution_count": null,
   "metadata": {},
   "outputs": [],
   "source": []
  }
 ],
 "metadata": {
  "kernelspec": {
   "display_name": "Python 3",
   "language": "python",
   "name": "python3"
  },
  "language_info": {
   "codemirror_mode": {
    "name": "ipython",
    "version": 3
   },
   "file_extension": ".py",
   "mimetype": "text/x-python",
   "name": "python",
   "nbconvert_exporter": "python",
   "pygments_lexer": "ipython3",
   "version": "3.9.18"
  }
 },
 "nbformat": 4,
 "nbformat_minor": 2
}
